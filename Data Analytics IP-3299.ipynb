{
 "cells": [
  {
   "cell_type": "markdown",
   "id": "b2f4af12",
   "metadata": {},
   "source": [
    "# OBJECTIVE\n",
    "##### We aim to conduct a comprehensive analysis of our student interns to gain insights about relationship between their academic performance, event participation. career aspiration and factors Influencing their success. We have collected a dataset containing various attributes for each student."
   ]
  },
  {
   "cell_type": "markdown",
   "id": "edb88e2f",
   "metadata": {},
   "source": [
    "# PROBLEM:\n",
    "\n",
    "##### Absence of insights for the relatonehip between student's economic background, academic performance, competence & expected salary."
   ]
  },
  {
   "cell_type": "markdown",
   "id": "a0a01017",
   "metadata": {},
   "source": [
    "\n",
    "# BACKGROUND:\n",
    "\n",
    "##### (EVISENCE TO DESCRIBE AND EXPLAIN THE CONTEXT OF THE PROBLEM) Millions of students apply for Internship/Jobs every year, resumes play an importent role in playing the first impression. The recruiters spend a max of 2-3 minutes reviewing a resume after it landed in their mialbox or job board, ATS application. Surprising more then 70% of resumes get rejected in the initial screening."
   ]
  },
  {
   "cell_type": "code",
   "execution_count": 2,
   "id": "04f14456",
   "metadata": {},
   "outputs": [
    {
     "data": {
      "text/html": [
       "<div>\n",
       "<style scoped>\n",
       "    .dataframe tbody tr th:only-of-type {\n",
       "        vertical-align: middle;\n",
       "    }\n",
       "\n",
       "    .dataframe tbody tr th {\n",
       "        vertical-align: top;\n",
       "    }\n",
       "\n",
       "    .dataframe thead th {\n",
       "        text-align: right;\n",
       "    }\n",
       "</style>\n",
       "<table border=\"1\" class=\"dataframe\">\n",
       "  <thead>\n",
       "    <tr style=\"text-align: right;\">\n",
       "      <th></th>\n",
       "      <th>First Name</th>\n",
       "      <th>Email ID</th>\n",
       "      <th>Quantity</th>\n",
       "      <th>Events</th>\n",
       "      <th>Attendee Status</th>\n",
       "      <th>College Name</th>\n",
       "      <th>How did you come to know about this event?</th>\n",
       "      <th>Specify in \"Others\" (how did you come to know about this event)</th>\n",
       "      <th>Designation</th>\n",
       "      <th>Year of Graduation</th>\n",
       "      <th>City</th>\n",
       "      <th>CGPA</th>\n",
       "      <th>Experience with python (Months)</th>\n",
       "      <th>Family Income</th>\n",
       "      <th>Expected salary (Lac)</th>\n",
       "      <th>Leadership- skills</th>\n",
       "    </tr>\n",
       "  </thead>\n",
       "  <tbody>\n",
       "    <tr>\n",
       "      <th>0</th>\n",
       "      <td>ANIKET</td>\n",
       "      <td>aniket@xyz.com</td>\n",
       "      <td>1</td>\n",
       "      <td>Art of Resume Building</td>\n",
       "      <td>Attending</td>\n",
       "      <td>D Y PATIL INSTITUTE OF MCA AND MANAGEMENT AKUR...</td>\n",
       "      <td>Email</td>\n",
       "      <td>NaN</td>\n",
       "      <td>Students</td>\n",
       "      <td>2024</td>\n",
       "      <td>Patna</td>\n",
       "      <td>6.7</td>\n",
       "      <td>7</td>\n",
       "      <td>7 Lakh+</td>\n",
       "      <td>6</td>\n",
       "      <td>yes</td>\n",
       "    </tr>\n",
       "    <tr>\n",
       "      <th>1</th>\n",
       "      <td>Dhanshree</td>\n",
       "      <td>dhanshree@xyz.com</td>\n",
       "      <td>1</td>\n",
       "      <td>Art of Resume Building</td>\n",
       "      <td>Attending</td>\n",
       "      <td>AP SHAH INSTITUTE OF TECHNOLOGY</td>\n",
       "      <td>Others</td>\n",
       "      <td>College</td>\n",
       "      <td>Students</td>\n",
       "      <td>2024</td>\n",
       "      <td>Amravati</td>\n",
       "      <td>8.2</td>\n",
       "      <td>3</td>\n",
       "      <td>0-2 Lakh</td>\n",
       "      <td>7</td>\n",
       "      <td>no</td>\n",
       "    </tr>\n",
       "    <tr>\n",
       "      <th>2</th>\n",
       "      <td>Dhiraj</td>\n",
       "      <td>dhiraj@xyz.com</td>\n",
       "      <td>1</td>\n",
       "      <td>Art of Resume Building</td>\n",
       "      <td>Attending</td>\n",
       "      <td>Don Bosco College of Engineering Fatorda Goa</td>\n",
       "      <td>Email</td>\n",
       "      <td>NaN</td>\n",
       "      <td>Students</td>\n",
       "      <td>2023</td>\n",
       "      <td>Kunrool</td>\n",
       "      <td>6.5</td>\n",
       "      <td>4</td>\n",
       "      <td>5-7 Lakh</td>\n",
       "      <td>7</td>\n",
       "      <td>no</td>\n",
       "    </tr>\n",
       "    <tr>\n",
       "      <th>3</th>\n",
       "      <td>Pooja</td>\n",
       "      <td>pooja@xyz.com</td>\n",
       "      <td>1</td>\n",
       "      <td>Art of Resume Building</td>\n",
       "      <td>Attending</td>\n",
       "      <td>Pillai College of Engineering New Panvel</td>\n",
       "      <td>Email</td>\n",
       "      <td>NaN</td>\n",
       "      <td>Students</td>\n",
       "      <td>2025</td>\n",
       "      <td>Tirupati</td>\n",
       "      <td>8.7</td>\n",
       "      <td>7</td>\n",
       "      <td>2-5 Lakh</td>\n",
       "      <td>8</td>\n",
       "      <td>no</td>\n",
       "    </tr>\n",
       "    <tr>\n",
       "      <th>4</th>\n",
       "      <td>Aayush</td>\n",
       "      <td>aayush@xyz.com</td>\n",
       "      <td>1</td>\n",
       "      <td>Art of Resume Building</td>\n",
       "      <td>Attending</td>\n",
       "      <td>St Xavier's College</td>\n",
       "      <td>Instagram | LinkedIn | Cloud Counselage Website</td>\n",
       "      <td>NaN</td>\n",
       "      <td>Students</td>\n",
       "      <td>2024</td>\n",
       "      <td>Vijaywada</td>\n",
       "      <td>9.1</td>\n",
       "      <td>3</td>\n",
       "      <td>0-2 Lakh</td>\n",
       "      <td>10</td>\n",
       "      <td>yes</td>\n",
       "    </tr>\n",
       "    <tr>\n",
       "      <th>...</th>\n",
       "      <td>...</td>\n",
       "      <td>...</td>\n",
       "      <td>...</td>\n",
       "      <td>...</td>\n",
       "      <td>...</td>\n",
       "      <td>...</td>\n",
       "      <td>...</td>\n",
       "      <td>...</td>\n",
       "      <td>...</td>\n",
       "      <td>...</td>\n",
       "      <td>...</td>\n",
       "      <td>...</td>\n",
       "      <td>...</td>\n",
       "      <td>...</td>\n",
       "      <td>...</td>\n",
       "      <td>...</td>\n",
       "    </tr>\n",
       "    <tr>\n",
       "      <th>4889</th>\n",
       "      <td>Patel Niraj</td>\n",
       "      <td>patelniraj@xyz.com</td>\n",
       "      <td>1</td>\n",
       "      <td>The SDLC &amp; their transformations</td>\n",
       "      <td>Attending</td>\n",
       "      <td>thakur institute of management studies, career...</td>\n",
       "      <td>LinkedIn | Whatsapp | Email</td>\n",
       "      <td>NaN</td>\n",
       "      <td>Students</td>\n",
       "      <td>2024</td>\n",
       "      <td>Jodhpur</td>\n",
       "      <td>6.9</td>\n",
       "      <td>6</td>\n",
       "      <td>0-2 Lakh</td>\n",
       "      <td>15</td>\n",
       "      <td>yes</td>\n",
       "    </tr>\n",
       "    <tr>\n",
       "      <th>4890</th>\n",
       "      <td>VIDIT</td>\n",
       "      <td>vidit@xyz.com</td>\n",
       "      <td>1</td>\n",
       "      <td>Data Visualization using Power BI</td>\n",
       "      <td>Attending</td>\n",
       "      <td>government polytechnic gandhinagar</td>\n",
       "      <td>NaN</td>\n",
       "      <td>NaN</td>\n",
       "      <td>Students</td>\n",
       "      <td>2023</td>\n",
       "      <td>Jalgaon</td>\n",
       "      <td>6.5</td>\n",
       "      <td>6</td>\n",
       "      <td>0-2 Lakh</td>\n",
       "      <td>8</td>\n",
       "      <td>no</td>\n",
       "    </tr>\n",
       "    <tr>\n",
       "      <th>4891</th>\n",
       "      <td>Suryaprakash</td>\n",
       "      <td>suryaprakash@xyz.com</td>\n",
       "      <td>1</td>\n",
       "      <td>Data Visualization using Power BI</td>\n",
       "      <td>Attending</td>\n",
       "      <td>vishwakarma institute of technology, pune</td>\n",
       "      <td>NaN</td>\n",
       "      <td>NaN</td>\n",
       "      <td>Students</td>\n",
       "      <td>2024</td>\n",
       "      <td>Thane</td>\n",
       "      <td>6.9</td>\n",
       "      <td>5</td>\n",
       "      <td>0-2 Lakh</td>\n",
       "      <td>7</td>\n",
       "      <td>no</td>\n",
       "    </tr>\n",
       "    <tr>\n",
       "      <th>4892</th>\n",
       "      <td>Saif ali</td>\n",
       "      <td>saifali@xyz.com</td>\n",
       "      <td>1</td>\n",
       "      <td>Data Visualization using Power BI</td>\n",
       "      <td>Attending</td>\n",
       "      <td>mit academy of engineering ,alandi</td>\n",
       "      <td>NaN</td>\n",
       "      <td>NaN</td>\n",
       "      <td>Students</td>\n",
       "      <td>2024</td>\n",
       "      <td>Patiala</td>\n",
       "      <td>9.0</td>\n",
       "      <td>3</td>\n",
       "      <td>0-2 Lakh</td>\n",
       "      <td>23</td>\n",
       "      <td>yes</td>\n",
       "    </tr>\n",
       "    <tr>\n",
       "      <th>4893</th>\n",
       "      <td>Lankesh</td>\n",
       "      <td>lankesh@xyz.com</td>\n",
       "      <td>1</td>\n",
       "      <td>Data Visualization using Power BI</td>\n",
       "      <td>Attending</td>\n",
       "      <td>a. c. patil college of engineering</td>\n",
       "      <td>NaN</td>\n",
       "      <td>NaN</td>\n",
       "      <td>Students</td>\n",
       "      <td>2025</td>\n",
       "      <td>Sangrur</td>\n",
       "      <td>7.2</td>\n",
       "      <td>8</td>\n",
       "      <td>0-2 Lakh</td>\n",
       "      <td>9</td>\n",
       "      <td>yes</td>\n",
       "    </tr>\n",
       "  </tbody>\n",
       "</table>\n",
       "<p>4894 rows × 16 columns</p>\n",
       "</div>"
      ],
      "text/plain": [
       "        First Name              Email ID  Quantity  \\\n",
       "0           ANIKET        aniket@xyz.com         1   \n",
       "1        Dhanshree     dhanshree@xyz.com         1   \n",
       "2           Dhiraj        dhiraj@xyz.com         1   \n",
       "3            Pooja         pooja@xyz.com         1   \n",
       "4           Aayush        aayush@xyz.com         1   \n",
       "...            ...                   ...       ...   \n",
       "4889   Patel Niraj    patelniraj@xyz.com         1   \n",
       "4890         VIDIT         vidit@xyz.com         1   \n",
       "4891  Suryaprakash  suryaprakash@xyz.com         1   \n",
       "4892      Saif ali       saifali@xyz.com         1   \n",
       "4893       Lankesh       lankesh@xyz.com         1   \n",
       "\n",
       "                                 Events Attendee Status  \\\n",
       "0                Art of Resume Building       Attending   \n",
       "1                Art of Resume Building       Attending   \n",
       "2                Art of Resume Building       Attending   \n",
       "3                Art of Resume Building       Attending   \n",
       "4                Art of Resume Building       Attending   \n",
       "...                                 ...             ...   \n",
       "4889   The SDLC & their transformations       Attending   \n",
       "4890  Data Visualization using Power BI       Attending   \n",
       "4891  Data Visualization using Power BI       Attending   \n",
       "4892  Data Visualization using Power BI       Attending   \n",
       "4893  Data Visualization using Power BI       Attending   \n",
       "\n",
       "                                           College Name  \\\n",
       "0     D Y PATIL INSTITUTE OF MCA AND MANAGEMENT AKUR...   \n",
       "1                      AP SHAH INSTITUTE OF TECHNOLOGY    \n",
       "2          Don Bosco College of Engineering Fatorda Goa   \n",
       "3              Pillai College of Engineering New Panvel   \n",
       "4                                  St Xavier's College    \n",
       "...                                                 ...   \n",
       "4889  thakur institute of management studies, career...   \n",
       "4890                 government polytechnic gandhinagar   \n",
       "4891          vishwakarma institute of technology, pune   \n",
       "4892                 mit academy of engineering ,alandi   \n",
       "4893                 a. c. patil college of engineering   \n",
       "\n",
       "           How did you come to know about this event?  \\\n",
       "0                                               Email   \n",
       "1                                              Others   \n",
       "2                                               Email   \n",
       "3                                               Email   \n",
       "4     Instagram | LinkedIn | Cloud Counselage Website   \n",
       "...                                               ...   \n",
       "4889                      LinkedIn | Whatsapp | Email   \n",
       "4890                                              NaN   \n",
       "4891                                              NaN   \n",
       "4892                                              NaN   \n",
       "4893                                              NaN   \n",
       "\n",
       "     Specify in \"Others\" (how did you come to know about this event)  \\\n",
       "0                                                   NaN                \n",
       "1                                               College                \n",
       "2                                                   NaN                \n",
       "3                                                   NaN                \n",
       "4                                                   NaN                \n",
       "...                                                 ...                \n",
       "4889                                                NaN                \n",
       "4890                                                NaN                \n",
       "4891                                                NaN                \n",
       "4892                                                NaN                \n",
       "4893                                                NaN                \n",
       "\n",
       "     Designation  Year of Graduation       City  CGPA  \\\n",
       "0       Students                2024      Patna   6.7   \n",
       "1       Students                2024   Amravati   8.2   \n",
       "2       Students                2023    Kunrool   6.5   \n",
       "3       Students                2025   Tirupati   8.7   \n",
       "4       Students                2024  Vijaywada   9.1   \n",
       "...          ...                 ...        ...   ...   \n",
       "4889    Students                2024    Jodhpur   6.9   \n",
       "4890    Students                2023    Jalgaon   6.5   \n",
       "4891    Students                2024      Thane   6.9   \n",
       "4892    Students                2024    Patiala   9.0   \n",
       "4893    Students                2025    Sangrur   7.2   \n",
       "\n",
       "      Experience with python (Months) Family Income  Expected salary (Lac)  \\\n",
       "0                                   7       7 Lakh+                      6   \n",
       "1                                   3      0-2 Lakh                      7   \n",
       "2                                   4      5-7 Lakh                      7   \n",
       "3                                   7      2-5 Lakh                      8   \n",
       "4                                   3      0-2 Lakh                     10   \n",
       "...                               ...           ...                    ...   \n",
       "4889                                6      0-2 Lakh                     15   \n",
       "4890                                6      0-2 Lakh                      8   \n",
       "4891                                5      0-2 Lakh                      7   \n",
       "4892                                3      0-2 Lakh                     23   \n",
       "4893                                8      0-2 Lakh                      9   \n",
       "\n",
       "     Leadership- skills  \n",
       "0                   yes  \n",
       "1                    no  \n",
       "2                    no  \n",
       "3                    no  \n",
       "4                   yes  \n",
       "...                 ...  \n",
       "4889                yes  \n",
       "4890                 no  \n",
       "4891                 no  \n",
       "4892                yes  \n",
       "4893                yes  \n",
       "\n",
       "[4894 rows x 16 columns]"
      ]
     },
     "execution_count": 2,
     "metadata": {},
     "output_type": "execute_result"
    }
   ],
   "source": [
    "import pandas as pd\n",
    "df=pd.read_excel('Data.xlsx')\n",
    "df"
   ]
  },
  {
   "cell_type": "markdown",
   "id": "3714a39c",
   "metadata": {},
   "source": [
    "# 1.HOW MANY UNIQUE STUDENTS ARE INCLUDED IN THE DATASET?"
   ]
  },
  {
   "cell_type": "code",
   "execution_count": 5,
   "id": "0143691e",
   "metadata": {},
   "outputs": [
    {
     "name": "stdout",
     "output_type": "stream",
     "text": [
      "The number of unique students in the dataset is: 2324\n"
     ]
    }
   ],
   "source": [
    "unique_students = df['First Name'].nunique()\n",
    "\n",
    "print(f'The number of unique students in the dataset is: {unique_students}')"
   ]
  },
  {
   "cell_type": "markdown",
   "id": "734a1a17",
   "metadata": {},
   "source": [
    "# 2.What is the average GPA of the students?"
   ]
  },
  {
   "cell_type": "code",
   "execution_count": 9,
   "id": "9ceeb9fc",
   "metadata": {},
   "outputs": [
    {
     "name": "stdout",
     "output_type": "stream",
     "text": [
      "The average CGPA is: 8.038475684511647\n"
     ]
    }
   ],
   "source": [
    "average = df['CGPA'].mean()\n",
    "\n",
    "print(f'The average CGPA is: {average}')"
   ]
  },
  {
   "cell_type": "markdown",
   "id": "1987a614",
   "metadata": {},
   "source": [
    "# 3.What is the distribution of students across different graduation years?"
   ]
  },
  {
   "cell_type": "code",
   "execution_count": 10,
   "id": "5b9705a7",
   "metadata": {},
   "outputs": [
    {
     "name": "stdout",
     "output_type": "stream",
     "text": [
      "Year of Graduation\n",
      "2023    1536\n",
      "2024    1511\n",
      "2025    1292\n",
      "2026     555\n",
      "Name: count, dtype: int64\n"
     ]
    }
   ],
   "source": [
    "graduation_year_distribution = df['Year of Graduation'].value_counts()\n",
    "\n",
    "print(graduation_year_distribution)"
   ]
  },
  {
   "cell_type": "markdown",
   "id": "c9de9f5a",
   "metadata": {},
   "source": [
    "# 4. What is the distribution of students' experience with Python programming?"
   ]
  },
  {
   "cell_type": "code",
   "execution_count": 11,
   "id": "012f058b",
   "metadata": {},
   "outputs": [
    {
     "name": "stdout",
     "output_type": "stream",
     "text": [
      "Experience with python (Months)\n",
      "5    1242\n",
      "3    1008\n",
      "8     800\n",
      "6     738\n",
      "7     640\n",
      "4     466\n",
      "Name: count, dtype: int64\n"
     ]
    }
   ],
   "source": [
    "python_experience_distribution = df['Experience with python (Months)'].value_counts()\n",
    "\n",
    "print(python_experience_distribution)"
   ]
  },
  {
   "cell_type": "markdown",
   "id": "25c6f7d0",
   "metadata": {},
   "source": [
    "# 5. What is the average family income of the student?"
   ]
  },
  {
   "cell_type": "code",
   "execution_count": 19,
   "id": "807bed0a",
   "metadata": {},
   "outputs": [
    {
     "name": "stdout",
     "output_type": "stream",
     "text": [
      "The average family income is: 1.3111973845525133 Lakh\n"
     ]
    }
   ],
   "source": [
    "# Map family income ranges to numerical values\n",
    "income_mapping = {\n",
    "    '0-2 Lakh': 1,\n",
    "    '2-5 Lakh': 3.5,\n",
    "    '5-7 Lakh': 6,\n",
    "    '7 Lakh+': 8  # Assuming 8 Lakh as an arbitrary value for 7 Lakh+\n",
    "}\n",
    "\n",
    "df['Family Income Numeric'] = df['Family Income'].map(income_mapping)\n",
    "\n",
    "# Calculate the average family income\n",
    "average_family_income = df['Family Income Numeric'].mean()\n",
    "\n",
    "print(f'The average family income is: {average_family_income} Lakh')\n"
   ]
  },
  {
   "cell_type": "markdown",
   "id": "e89d9158",
   "metadata": {},
   "source": [
    "# 6.How does the GPA vary among different colleges? (Show top 5 results only)"
   ]
  },
  {
   "cell_type": "code",
   "execution_count": 20,
   "id": "dec3b548",
   "metadata": {},
   "outputs": [
    {
     "name": "stdout",
     "output_type": "stream",
     "text": [
      "College Name\n",
      "THAKUR INSTITUTE OF MANAGEMENT STUDIES, CAREER DEVELOPMENT & RESEARCH - [TIMSCDR]    8.585714\n",
      "St Xavier's College                                                                  8.578571\n",
      "B. K. Birla College of Arts, Science & Commerce (Autonomous), Kalyan                 8.456410\n",
      "Symbiosis Institute of Technology, Pune                                              8.303448\n",
      "AP SHAH INSTITUTE OF TECHNOLOGY                                                      8.283333\n",
      "Name: CGPA, dtype: float64\n"
     ]
    }
   ],
   "source": [
    "# Average GPA for each college, showing top 5 results\n",
    "average_gpa_colleges = df.groupby('College Name')['CGPA'].mean().sort_values(ascending=False).head(5)\n",
    "\n",
    "print(average_gpa_colleges)\n"
   ]
  },
  {
   "cell_type": "markdown",
   "id": "2fe50b9a",
   "metadata": {},
   "source": [
    "# 8.What is the average GPA for student from each city?"
   ]
  },
  {
   "cell_type": "code",
   "execution_count": 21,
   "id": "de698054",
   "metadata": {},
   "outputs": [
    {
     "name": "stdout",
     "output_type": "stream",
     "text": [
      "City\n",
      "Agartala     7.660714\n",
      "Agra         8.046429\n",
      "Ahemdabad    8.190385\n",
      "Ajmer        8.284314\n",
      "Akola        8.021429\n",
      "               ...   \n",
      "Vidisha      7.738095\n",
      "Vijaywada    7.986364\n",
      "Wardha       8.328571\n",
      "konark       8.071429\n",
      "kullu        7.878571\n",
      "Name: CGPA, Length: 177, dtype: float64\n"
     ]
    }
   ],
   "source": [
    "# Average GPA for students from each city\n",
    "average_gpa_cities = df.groupby('City')['CGPA'].mean()\n",
    "\n",
    "print(average_gpa_cities)\n"
   ]
  },
  {
   "cell_type": "markdown",
   "id": "f7164279",
   "metadata": {},
   "source": [
    "# 9.Can we identify any relationship between family income and GPA?"
   ]
  },
  {
   "cell_type": "code",
   "execution_count": 22,
   "id": "29d23cc6",
   "metadata": {},
   "outputs": [
    {
     "data": {
      "image/png": "[encoded data removed]",
      "text/plain": [
       "<Figure size 640x480 with 1 Axes>"
      ]
     },
     "metadata": {},
     "output_type": "display_data"
    },
    {
     "name": "stdout",
     "output_type": "stream",
     "text": [
      "The correlation between family income and CGPA is: 0.015740777009672198\n"
     ]
    }
   ],
   "source": [
    "import matplotlib.pyplot as plt\n",
    "\n",
    "# Scatter plot of family income vs. GPA\n",
    "plt.scatter(df['Family Income Numeric'], df['CGPA'])\n",
    "plt.xlabel('Family Income (Lakh)')\n",
    "plt.ylabel('CGPA')\n",
    "plt.title('Family Income vs. CGPA')\n",
    "plt.show()\n",
    "\n",
    "# Calculate correlation\n",
    "correlation = df['Family Income Numeric'].corr(df['CGPA'])\n",
    "\n",
    "print(f'The correlation between family income and CGPA is: {correlation}')\n"
   ]
  },
  {
   "cell_type": "markdown",
   "id": "b627423f",
   "metadata": {},
   "source": [
    "# 11.Howdoes the expected salary vary based on factors like 'GPA', 'Family income', 'Experience with python (months)'?"
   ]
  },
  {
   "cell_type": "code",
   "execution_count": 23,
   "id": "443d80da",
   "metadata": {},
   "outputs": [
    {
     "name": "stdout",
     "output_type": "stream",
     "text": [
      "                              OLS Regression Results                             \n",
      "=================================================================================\n",
      "Dep. Variable:     Expected salary (Lac)   R-squared:                       0.047\n",
      "Model:                               OLS   Adj. R-squared:                  0.047\n",
      "Method:                    Least Squares   F-statistic:                     81.11\n",
      "Date:                   Sun, 09 Jun 2024   Prob (F-statistic):           3.33e-51\n",
      "Time:                           23:30:36   Log-Likelihood:                -15949.\n",
      "No. Observations:                   4894   AIC:                         3.191e+04\n",
      "Df Residuals:                       4890   BIC:                         3.193e+04\n",
      "Df Model:                              3                                         \n",
      "Covariance Type:               nonrobust                                         \n",
      "===================================================================================================\n",
      "                                      coef    std err          t      P>|t|      [0.025      0.975]\n",
      "---------------------------------------------------------------------------------------------------\n",
      "const                               1.9685      0.786      2.503      0.012       0.427       3.510\n",
      "CGPA                                1.1703      0.090     13.061      0.000       0.995       1.346\n",
      "Family Income Numeric               0.1355      0.075      1.814      0.070      -0.011       0.282\n",
      "Experience with python (Months)     0.4414      0.053      8.347      0.000       0.338       0.545\n",
      "==============================================================================\n",
      "Omnibus:                      569.950   Durbin-Watson:                   1.669\n",
      "Prob(Omnibus):                  0.000   Jarque-Bera (JB):              291.762\n",
      "Skew:                           0.442   Prob(JB):                     4.41e-64\n",
      "Kurtosis:                       2.194   Cond. No.                         87.0\n",
      "==============================================================================\n",
      "\n",
      "Notes:\n",
      "[1] Standard Errors assume that the covariance matrix of the errors is correctly specified.\n"
     ]
    }
   ],
   "source": [
    "import statsmodels.api as sm\n",
    "\n",
    "# Define the independent variables (features) and the dependent variable (target)\n",
    "X = df[['CGPA', 'Family Income Numeric', 'Experience with python (Months)']]\n",
    "y = df['Expected salary (Lac)']\n",
    "\n",
    "# Add a constant to the model (intercept)\n",
    "X = sm.add_constant(X)\n",
    "\n",
    "# Fit the regression model\n",
    "model = sm.OLS(y, X).fit()\n",
    "\n",
    "# Print the model summary\n",
    "print(model.summary())"
   ]
  },
  {
   "cell_type": "markdown",
   "id": "8cbd5d97",
   "metadata": {},
   "source": [
    "# 12. Which event tends to attract more students from specific fields of Study?"
   ]
  },
  {
   "cell_type": "code",
   "execution_count": 28,
   "id": "6bb0ca3b",
   "metadata": {},
   "outputs": [
    {
     "name": "stdout",
     "output_type": "stream",
     "text": [
      "Specify in \"Others\" (how did you come to know about this event)  Attend  \\\n",
      "Events                                                                    \n",
      "Art of Resume Building                                                2   \n",
      "Data Visualization using Power BI                                     0   \n",
      "Product Design & Full Stack                                           0   \n",
      "Product Marketing                                                     0   \n",
      "Transformation with DevOps: The Easy Way                              0   \n",
      "\n",
      "Specify in \"Others\" (how did you come to know about this event)  College  \\\n",
      "Events                                                                     \n",
      "Art of Resume Building                                                48   \n",
      "Data Visualization using Power BI                                      3   \n",
      "Product Design & Full Stack                                           18   \n",
      "Product Marketing                                                      0   \n",
      "Transformation with DevOps: The Easy Way                               2   \n",
      "\n",
      "Specify in \"Others\" (how did you come to know about this event)  Friends  \\\n",
      "Events                                                                     \n",
      "Art of Resume Building                                                 5   \n",
      "Data Visualization using Power BI                                      0   \n",
      "Product Design & Full Stack                                            0   \n",
      "Product Marketing                                                      0   \n",
      "Transformation with DevOps: The Easy Way                               2   \n",
      "\n",
      "Specify in \"Others\" (how did you come to know about this event)  From Academy  \\\n",
      "Events                                                                          \n",
      "Art of Resume Building                                                      1   \n",
      "Data Visualization using Power BI                                           0   \n",
      "Product Design & Full Stack                                                 0   \n",
      "Product Marketing                                                           0   \n",
      "Transformation with DevOps: The Easy Way                                    0   \n",
      "\n",
      "Specify in \"Others\" (how did you come to know about this event)  Institute  \\\n",
      "Events                                                                       \n",
      "Art of Resume Building                                                   1   \n",
      "Data Visualization using Power BI                                        0   \n",
      "Product Design & Full Stack                                              0   \n",
      "Product Marketing                                                        0   \n",
      "Transformation with DevOps: The Easy Way                                 0   \n",
      "\n",
      "Specify in \"Others\" (how did you come to know about this event)  Interested  \\\n",
      "Events                                                                        \n",
      "Art of Resume Building                                                    1   \n",
      "Data Visualization using Power BI                                         0   \n",
      "Product Design & Full Stack                                               0   \n",
      "Product Marketing                                                         0   \n",
      "Transformation with DevOps: The Easy Way                                  1   \n",
      "\n",
      "Specify in \"Others\" (how did you come to know about this event)  Team entity  \\\n",
      "Events                                                                         \n",
      "Art of Resume Building                                                     0   \n",
      "Data Visualization using Power BI                                          0   \n",
      "Product Design & Full Stack                                                0   \n",
      "Product Marketing                                                          1   \n",
      "Transformation with DevOps: The Easy Way                                   0   \n",
      "\n",
      "Specify in \"Others\" (how did you come to know about this event)  Telegram  \\\n",
      "Events                                                                      \n",
      "Art of Resume Building                                                  1   \n",
      "Data Visualization using Power BI                                       0   \n",
      "Product Design & Full Stack                                             0   \n",
      "Product Marketing                                                       0   \n",
      "Transformation with DevOps: The Easy Way                                0   \n",
      "\n",
      "Specify in \"Others\" (how did you come to know about this event)  Twitter   \\\n",
      "Events                                                                      \n",
      "Art of Resume Building                                                  0   \n",
      "Data Visualization using Power BI                                       0   \n",
      "Product Design & Full Stack                                             0   \n",
      "Product Marketing                                                       0   \n",
      "Transformation with DevOps: The Easy Way                                1   \n",
      "\n",
      "Specify in \"Others\" (how did you come to know about this event)  You tube  \\\n",
      "Events                                                                      \n",
      "Art of Resume Building                                                  0   \n",
      "Data Visualization using Power BI                                       0   \n",
      "Product Design & Full Stack                                             1   \n",
      "Product Marketing                                                       0   \n",
      "Transformation with DevOps: The Easy Way                                0   \n",
      "\n",
      "Specify in \"Others\" (how did you come to know about this event)  Yuva Sena/Shiv Sena  \n",
      "Events                                                                                \n",
      "Art of Resume Building                                                             0  \n",
      "Data Visualization using Power BI                                                  0  \n",
      "Product Design & Full Stack                                                        0  \n",
      "Product Marketing                                                                  0  \n",
      "Transformation with DevOps: The Easy Way                                           1  \n"
     ]
    }
   ],
   "source": [
    "# Count the number of students from each field of study for each event\n",
    "event_field_distribution = df.groupby(['Events', 'Specify in \"Others\" (how did you come to know about this event)']).size().unstack(fill_value=0)\n",
    "\n",
    "print(event_field_distribution)"
   ]
  },
  {
   "cell_type": "markdown",
   "id": "6915c1ad",
   "metadata": {},
   "source": [
    "# 13. Do students in leadership positions during their college years tend to have higher GPAs or better expected salary?"
   ]
  },
  {
   "cell_type": "code",
   "execution_count": 30,
   "id": "5c4b5698",
   "metadata": {},
   "outputs": [
    {
     "name": "stdout",
     "output_type": "stream",
     "text": [
      "Average GPA for Leadership- skills: nan\n",
      "Average GPA for non-Leadership- skills: nan\n",
      "Average expected salary for Leadership- skills: nan Lac\n",
      "Average expected salary for non-Leadership- skills: nan Lac\n"
     ]
    }
   ],
   "source": [
    "# Separate students with and without leadership positions\n",
    "leadership_gpa = df[df['Leadership- skills'] == 'Yes']['CGPA']\n",
    "non_leadership_gpa = df[df['Leadership- skills'] == 'No']['CGPA']\n",
    "\n",
    "leadership_salary = df[df['Leadership- skills'] == 'Yes']['Expected salary (Lac)']\n",
    "non_leadership_salary = df[df['Leadership- skills'] == 'No']['Expected salary (Lac)']\n",
    "\n",
    "# Compare GPAs\n",
    "avg_gpa_leadership = leadership_gpa.mean()\n",
    "avg_gpa_non_leadership = non_leadership_gpa.mean()\n",
    "\n",
    "# Compare expected salaries\n",
    "avg_salary_leadership = leadership_salary.mean()\n",
    "avg_salary_non_leadership = non_leadership_salary.mean()\n",
    "\n",
    "print(f'Average GPA for Leadership- skills: {avg_gpa_leadership}')\n",
    "print(f'Average GPA for non-Leadership- skills: {avg_gpa_non_leadership}')\n",
    "print(f'Average expected salary for Leadership- skills: {avg_salary_leadership} Lac')\n",
    "print(f'Average expected salary for non-Leadership- skills: {avg_salary_non_leadership} Lac')\n"
   ]
  },
  {
   "cell_type": "markdown",
   "id": "8719ad7d",
   "metadata": {},
   "source": [
    "# 14. How many students are graduating by the end of 2024?"
   ]
  },
  {
   "cell_type": "code",
   "execution_count": 31,
   "id": "aae6f2f2",
   "metadata": {},
   "outputs": [
    {
     "name": "stdout",
     "output_type": "stream",
     "text": [
      "Number of students graduating by the end of 2024: 3047\n"
     ]
    }
   ],
   "source": [
    "# Count the number of students graduating by the end of 2024\n",
    "graduates_2024 = df[df['Year of Graduation'] <= 2024].shape[0]\n",
    "\n",
    "print(f'Number of students graduating by the end of 2024: {graduates_2024}')\n"
   ]
  },
  {
   "cell_type": "markdown",
   "id": "7b484de0",
   "metadata": {},
   "source": [
    "# 15. Which promotion channel brings in more student participation for the event?"
   ]
  },
  {
   "cell_type": "code",
   "execution_count": 33,
   "id": "a5d50f10",
   "metadata": {},
   "outputs": [
    {
     "name": "stdout",
     "output_type": "stream",
     "text": [
      "How did you come to know about this event?\n",
      "Whatsapp                                                                                       1067\n",
      "Email                                                                                           438\n",
      "SPOC/ College Professor                                                                         326\n",
      "Others                                                                                          153\n",
      "Cloud Counselage Website                                                                        129\n",
      "                                                                                               ... \n",
      "Youtube | Instagram | Whatsapp | Email                                                            1\n",
      "LinkedIn | Email | Telegram                                                                       1\n",
      "Youtube | Email | Others                                                                          1\n",
      "Youtube | Facebook | Instagram | LinkedIn | Whatsapp | Email | Telegram | Friend/ Classmate       1\n",
      "Youtube | Whatsapp | Cloud Counselage Website                                                     1\n",
      "Name: count, Length: 99, dtype: int64\n"
     ]
    }
   ],
   "source": [
    "# Count the number of students for each promotion channel\n",
    "promotion_channel_distribution = df['How did you come to know about this event?'].value_counts()\n",
    "\n",
    "print(promotion_channel_distribution)\n"
   ]
  },
  {
   "cell_type": "markdown",
   "id": "7d5558ac",
   "metadata": {},
   "source": [
    "# 16. Find the total number of students who attended the events related to Data Science?"
   ]
  },
  {
   "cell_type": "code",
   "execution_count": 35,
   "id": "b1a7cb51",
   "metadata": {},
   "outputs": [
    {
     "name": "stdout",
     "output_type": "stream",
     "text": [
      "Total number of students who attended Data Science events: 306\n"
     ]
    }
   ],
   "source": [
    "# Count the number of students who attended events related to Data Science\n",
    "data_science_events = df[df['Events'].str.contains('Data Science', case=False, na=False)]\n",
    "total_data_science_students = data_science_events.shape[0]\n",
    "\n",
    "print(f'Total number of students who attended Data Science events: {total_data_science_students}')\n"
   ]
  },
  {
   "cell_type": "markdown",
   "id": "acc942c3",
   "metadata": {},
   "source": [
    "# 17. Those who have high CGPA & more experience in language tend to have high expectations for salary? (Avg)"
   ]
  },
  {
   "cell_type": "code",
   "execution_count": 36,
   "id": "2ded09ac",
   "metadata": {},
   "outputs": [
    {
     "name": "stdout",
     "output_type": "stream",
     "text": [
      "The average expected salary for students with high CGPA and high experience is: 20.64756446991404 Lac\n"
     ]
    }
   ],
   "source": [
    "# Define what is considered \"high\" for CGPA and experience\n",
    "high_cgpa_threshold = df['CGPA'].quantile(0.75)  # 75th percentile as high CGPA\n",
    "high_experience_threshold = df['Experience with python (Months)'].quantile(0.75)  # 75th percentile as high experience\n",
    "\n",
    "# Filter students with high CGPA and high experience\n",
    "high_cgpa_experience = df[(df['CGPA'] >= high_cgpa_threshold) & (df['Experience with python (Months)'] >= high_experience_threshold)]\n",
    "\n",
    "# Calculate the average expected salary for these students\n",
    "average_expected_salary_high_cgpa_experience = high_cgpa_experience['Expected salary (Lac)'].mean()\n",
    "\n",
    "print(f'The average expected salary for students with high CGPA and high experience is: {average_expected_salary_high_cgpa_experience} Lac')\n"
   ]
  },
  {
   "cell_type": "markdown",
   "id": "98a81cf0",
   "metadata": {},
   "source": [
    "# 18. How many students know about the event from their colleges? Which are the Top 5 colleges?"
   ]
  },
  {
   "cell_type": "code",
   "execution_count": 41,
   "id": "c5c858f9",
   "metadata": {},
   "outputs": [
    {
     "name": "stdout",
     "output_type": "stream",
     "text": [
      "Top 5 Colleges with the Most Students:\n",
      "                                        College Name  Events\n",
      "0      priyadarshini college of engineering, nagpur      261\n",
      "1        vidyalankar institute of technology, mumbai     258\n",
      "2     ld college of engineering, ahmedabad, gujarat      248\n",
      "3                 government polytechnic gandhinagar     206\n",
      "4  b. k. birla college of arts, science & commerc...     206\n"
     ]
    }
   ],
   "source": [
    "college_counts = df['College Name'].value_counts().reset_index()\n",
    "\n",
    "college_counts.columns = ['College Name', 'Events']\n",
    "\n",
    "# Sort the data by the number of students (in descending order)\n",
    "college_counts = college_counts.sort_values(by='Events', ascending=False)\n",
    "\n",
    "# Select the top 5 colleges\n",
    "top_5_colleges = college_counts.head(5)\n",
    "\n",
    "# Print the result\n",
    "print(\"Top 5 Colleges with the Most Students:\")\n",
    "print(top_5_colleges)"
   ]
  },
  {
   "cell_type": "code",
   "execution_count": null,
   "id": "b62d96ed",
   "metadata": {},
   "outputs": [],
   "source": []
  }
 ],
 "metadata": {
  "kernelspec": {
   "display_name": "Python 3 (ipykernel)",
   "language": "python",
   "name": "python3"
  },
  "language_info": {
   "codemirror_mode": {
    "name": "ipython",
    "version": 3
   },
   "file_extension": ".py",
   "mimetype": "text/x-python",
   "name": "python",
   "nbconvert_exporter": "python",
   "pygments_lexer": "ipython3",
   "version": "3.11.5"
  }
 },
 "nbformat": 4,
 "nbformat_minor": 5
}
